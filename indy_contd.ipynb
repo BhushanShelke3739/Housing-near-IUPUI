{
 "cells": [
  {
   "cell_type": "code",
   "execution_count": 46,
   "metadata": {},
   "outputs": [],
   "source": [
    "import pandas as pd\n",
    "import numpy as np"
   ]
  },
  {
   "cell_type": "code",
   "execution_count": 47,
   "metadata": {},
   "outputs": [],
   "source": [
    "df = pd.read_excel('Indy2.xlsx')"
   ]
  },
  {
   "cell_type": "code",
   "execution_count": 48,
   "metadata": {},
   "outputs": [
    {
     "data": {
      "text/plain": [
       "(679, 7)"
      ]
     },
     "execution_count": 48,
     "metadata": {},
     "output_type": "execute_result"
    }
   ],
   "source": [
    "df.shape"
   ]
  },
  {
   "cell_type": "code",
   "execution_count": 49,
   "metadata": {},
   "outputs": [
    {
     "data": {
      "text/plain": [
       "<bound method NDFrame.describe of                               name  \\\n",
       "0                        Briergate   \n",
       "1             Brookwood Apartments   \n",
       "2    The Residences on 56th Street   \n",
       "3       Kingston Square Apartments   \n",
       "4                    Madison Lofts   \n",
       "..                             ...   \n",
       "674                2031 Sharon Ave   \n",
       "675                  12645 Roan Ln   \n",
       "676               6903 Hardwood Dr   \n",
       "677               1143 Stockton St   \n",
       "678                 343 Polaris Dr   \n",
       "\n",
       "                                              Location     Price range   High  \\\n",
       "0            9117 Briergate Ct, Indianapolis, IN 46229  $1,359 - 2,100  2,100   \n",
       "1    5301 S Turtle Creek South Dr, Indianapolis, IN...    $799 - 1,005  1,005   \n",
       "2        6800 Brendon Way W Dr, Indianapolis, IN 46226    $858 - 1,567  1,567   \n",
       "3            7171 Twin Oaks Dr, Indianapolis, IN 46226  $1,012 - 1,883  1,883   \n",
       "4             1430 Madison Ave, Indianapolis, IN 46225    $769 - 1,399  1,399   \n",
       "..                                                 ...             ...    ...   \n",
       "674                                                NaN              -1    NaN   \n",
       "675                                                NaN              -1    NaN   \n",
       "676                                                NaN              -1    NaN   \n",
       "677                                                NaN              -1    NaN   \n",
       "678                                                NaN              -1    NaN   \n",
       "\n",
       "    Unnamed: 4  HIGH  PinCode  \n",
       "0         2100  2100    46229  \n",
       "1         1005  1005    46227  \n",
       "2         1567  1567    46226  \n",
       "3         1883  1883    46226  \n",
       "4         1399  1399    46225  \n",
       "..         ...   ...      ...  \n",
       "674        NaN    -1       -1  \n",
       "675        NaN    -1       -1  \n",
       "676        NaN    -1       -1  \n",
       "677        NaN    -1       -1  \n",
       "678        NaN    -1       -1  \n",
       "\n",
       "[679 rows x 7 columns]>"
      ]
     },
     "execution_count": 49,
     "metadata": {},
     "output_type": "execute_result"
    }
   ],
   "source": [
    "df.describe"
   ]
  },
  {
   "cell_type": "code",
   "execution_count": 50,
   "metadata": {},
   "outputs": [
    {
     "name": "stdout",
     "output_type": "stream",
     "text": [
      "<class 'pandas.core.frame.DataFrame'>\n",
      "RangeIndex: 679 entries, 0 to 678\n",
      "Data columns (total 7 columns):\n",
      " #   Column       Non-Null Count  Dtype \n",
      "---  ------       --------------  ----- \n",
      " 0   name         679 non-null    object\n",
      " 1   Location     625 non-null    object\n",
      " 2   Price range  679 non-null    object\n",
      " 3   High         625 non-null    object\n",
      " 4   Unnamed: 4   625 non-null    object\n",
      " 5   HIGH         679 non-null    int64 \n",
      " 6   PinCode      679 non-null    int64 \n",
      "dtypes: int64(2), object(5)\n",
      "memory usage: 37.3+ KB\n"
     ]
    }
   ],
   "source": [
    "df.info()"
   ]
  },
  {
   "cell_type": "code",
   "execution_count": 51,
   "metadata": {},
   "outputs": [
    {
     "data": {
      "text/html": [
       "<div>\n",
       "<style scoped>\n",
       "    .dataframe tbody tr th:only-of-type {\n",
       "        vertical-align: middle;\n",
       "    }\n",
       "\n",
       "    .dataframe tbody tr th {\n",
       "        vertical-align: top;\n",
       "    }\n",
       "\n",
       "    .dataframe thead th {\n",
       "        text-align: right;\n",
       "    }\n",
       "</style>\n",
       "<table border=\"1\" class=\"dataframe\">\n",
       "  <thead>\n",
       "    <tr style=\"text-align: right;\">\n",
       "      <th></th>\n",
       "      <th>name</th>\n",
       "      <th>Location</th>\n",
       "      <th>Price range</th>\n",
       "      <th>High</th>\n",
       "      <th>Unnamed: 4</th>\n",
       "      <th>HIGH</th>\n",
       "      <th>PinCode</th>\n",
       "    </tr>\n",
       "  </thead>\n",
       "  <tbody>\n",
       "    <tr>\n",
       "      <th>602</th>\n",
       "      <td>6745 Earlswood Dr</td>\n",
       "      <td>6800 Brendon Way W Dr, Indianapolis, IN 46226</td>\n",
       "      <td>$858 - 1,567</td>\n",
       "      <td>1,567</td>\n",
       "      <td>1567</td>\n",
       "      <td>1567</td>\n",
       "      <td>46226</td>\n",
       "    </tr>\n",
       "    <tr>\n",
       "      <th>66</th>\n",
       "      <td>Trails at Lakeside</td>\n",
       "      <td>3836 Arbor Green Ln, Indianapolis, IN 46220</td>\n",
       "      <td>$900 - 1,495</td>\n",
       "      <td>1,495</td>\n",
       "      <td>1495</td>\n",
       "      <td>1495</td>\n",
       "      <td>46220</td>\n",
       "    </tr>\n",
       "    <tr>\n",
       "      <th>355</th>\n",
       "      <td>7938 Island Club Dr Unit 11O.1193713</td>\n",
       "      <td>Indianapolis, IN 46214</td>\n",
       "      <td>$1,649</td>\n",
       "      <td>1,649</td>\n",
       "      <td>1649</td>\n",
       "      <td>1649</td>\n",
       "      <td>46214</td>\n",
       "    </tr>\n",
       "    <tr>\n",
       "      <th>136</th>\n",
       "      <td>The Masters Apartments</td>\n",
       "      <td>8975 Doral West Dr, Indianapolis, IN 46250</td>\n",
       "      <td>$1,178 - 1,704</td>\n",
       "      <td>1,704</td>\n",
       "      <td>1704</td>\n",
       "      <td>1704</td>\n",
       "      <td>46250</td>\n",
       "    </tr>\n",
       "    <tr>\n",
       "      <th>550</th>\n",
       "      <td>7109 Pluto Dr</td>\n",
       "      <td>9117 Briergate Ct, Indianapolis, IN 46229</td>\n",
       "      <td>$925 /mo</td>\n",
       "      <td>925</td>\n",
       "      <td>925</td>\n",
       "      <td>925</td>\n",
       "      <td>46229</td>\n",
       "    </tr>\n",
       "  </tbody>\n",
       "</table>\n",
       "</div>"
      ],
      "text/plain": [
       "                                     name  \\\n",
       "602                     6745 Earlswood Dr   \n",
       "66                     Trails at Lakeside   \n",
       "355  7938 Island Club Dr Unit 11O.1193713   \n",
       "136                The Masters Apartments   \n",
       "550                         7109 Pluto Dr   \n",
       "\n",
       "                                          Location     Price range   High  \\\n",
       "602  6800 Brendon Way W Dr, Indianapolis, IN 46226    $858 - 1,567  1,567   \n",
       "66     3836 Arbor Green Ln, Indianapolis, IN 46220    $900 - 1,495  1,495   \n",
       "355                         Indianapolis, IN 46214          $1,649  1,649   \n",
       "136     8975 Doral West Dr, Indianapolis, IN 46250  $1,178 - 1,704  1,704   \n",
       "550      9117 Briergate Ct, Indianapolis, IN 46229        $925 /mo    925   \n",
       "\n",
       "    Unnamed: 4  HIGH  PinCode  \n",
       "602       1567  1567    46226  \n",
       "66        1495  1495    46220  \n",
       "355       1649  1649    46214  \n",
       "136       1704  1704    46250  \n",
       "550        925   925    46229  "
      ]
     },
     "execution_count": 51,
     "metadata": {},
     "output_type": "execute_result"
    }
   ],
   "source": [
    "df.sample(5)"
   ]
  },
  {
   "cell_type": "code",
   "execution_count": 52,
   "metadata": {},
   "outputs": [
    {
     "data": {
      "text/plain": [
       "name            0\n",
       "Location       54\n",
       "Price range     0\n",
       "High           54\n",
       "Unnamed: 4     54\n",
       "HIGH            0\n",
       "PinCode         0\n",
       "dtype: int64"
      ]
     },
     "execution_count": 52,
     "metadata": {},
     "output_type": "execute_result"
    }
   ],
   "source": [
    "df.isnull().sum()"
   ]
  },
  {
   "cell_type": "code",
   "execution_count": 53,
   "metadata": {},
   "outputs": [
    {
     "data": {
      "text/html": [
       "<div>\n",
       "<style scoped>\n",
       "    .dataframe tbody tr th:only-of-type {\n",
       "        vertical-align: middle;\n",
       "    }\n",
       "\n",
       "    .dataframe tbody tr th {\n",
       "        vertical-align: top;\n",
       "    }\n",
       "\n",
       "    .dataframe thead th {\n",
       "        text-align: right;\n",
       "    }\n",
       "</style>\n",
       "<table border=\"1\" class=\"dataframe\">\n",
       "  <thead>\n",
       "    <tr style=\"text-align: right;\">\n",
       "      <th></th>\n",
       "      <th>HIGH</th>\n",
       "      <th>PinCode</th>\n",
       "    </tr>\n",
       "  </thead>\n",
       "  <tbody>\n",
       "    <tr>\n",
       "      <th>count</th>\n",
       "      <td>679.000000</td>\n",
       "      <td>679.000000</td>\n",
       "    </tr>\n",
       "    <tr>\n",
       "      <th>mean</th>\n",
       "      <td>1803.618557</td>\n",
       "      <td>42544.188513</td>\n",
       "    </tr>\n",
       "    <tr>\n",
       "      <th>std</th>\n",
       "      <td>1121.464721</td>\n",
       "      <td>12514.955371</td>\n",
       "    </tr>\n",
       "    <tr>\n",
       "      <th>min</th>\n",
       "      <td>-1.000000</td>\n",
       "      <td>-1.000000</td>\n",
       "    </tr>\n",
       "    <tr>\n",
       "      <th>25%</th>\n",
       "      <td>1385.000000</td>\n",
       "      <td>46204.000000</td>\n",
       "    </tr>\n",
       "    <tr>\n",
       "      <th>50%</th>\n",
       "      <td>1699.000000</td>\n",
       "      <td>46224.000000</td>\n",
       "    </tr>\n",
       "    <tr>\n",
       "      <th>75%</th>\n",
       "      <td>2014.500000</td>\n",
       "      <td>46239.000000</td>\n",
       "    </tr>\n",
       "    <tr>\n",
       "      <th>max</th>\n",
       "      <td>9239.000000</td>\n",
       "      <td>46280.000000</td>\n",
       "    </tr>\n",
       "  </tbody>\n",
       "</table>\n",
       "</div>"
      ],
      "text/plain": [
       "              HIGH       PinCode\n",
       "count   679.000000    679.000000\n",
       "mean   1803.618557  42544.188513\n",
       "std    1121.464721  12514.955371\n",
       "min      -1.000000     -1.000000\n",
       "25%    1385.000000  46204.000000\n",
       "50%    1699.000000  46224.000000\n",
       "75%    2014.500000  46239.000000\n",
       "max    9239.000000  46280.000000"
      ]
     },
     "execution_count": 53,
     "metadata": {},
     "output_type": "execute_result"
    }
   ],
   "source": [
    "df.describe()"
   ]
  },
  {
   "cell_type": "code",
   "execution_count": 54,
   "metadata": {},
   "outputs": [
    {
     "data": {
      "text/plain": [
       "0"
      ]
     },
     "execution_count": 54,
     "metadata": {},
     "output_type": "execute_result"
    }
   ],
   "source": [
    "df.duplicated().sum()"
   ]
  },
  {
   "cell_type": "code",
   "execution_count": 55,
   "metadata": {},
   "outputs": [
    {
     "data": {
      "text/html": [
       "<div>\n",
       "<style scoped>\n",
       "    .dataframe tbody tr th:only-of-type {\n",
       "        vertical-align: middle;\n",
       "    }\n",
       "\n",
       "    .dataframe tbody tr th {\n",
       "        vertical-align: top;\n",
       "    }\n",
       "\n",
       "    .dataframe thead th {\n",
       "        text-align: right;\n",
       "    }\n",
       "</style>\n",
       "<table border=\"1\" class=\"dataframe\">\n",
       "  <thead>\n",
       "    <tr style=\"text-align: right;\">\n",
       "      <th></th>\n",
       "      <th>HIGH</th>\n",
       "      <th>PinCode</th>\n",
       "    </tr>\n",
       "  </thead>\n",
       "  <tbody>\n",
       "    <tr>\n",
       "      <th>HIGH</th>\n",
       "      <td>1.000000</td>\n",
       "      <td>0.473039</td>\n",
       "    </tr>\n",
       "    <tr>\n",
       "      <th>PinCode</th>\n",
       "      <td>0.473039</td>\n",
       "      <td>1.000000</td>\n",
       "    </tr>\n",
       "  </tbody>\n",
       "</table>\n",
       "</div>"
      ],
      "text/plain": [
       "             HIGH   PinCode\n",
       "HIGH     1.000000  0.473039\n",
       "PinCode  0.473039  1.000000"
      ]
     },
     "execution_count": 55,
     "metadata": {},
     "output_type": "execute_result"
    }
   ],
   "source": [
    "df.corr()"
   ]
  },
  {
   "cell_type": "code",
   "execution_count": 56,
   "metadata": {},
   "outputs": [],
   "source": [
    "df.HIGH = df.HIGH.astype(int)"
   ]
  },
  {
   "cell_type": "code",
   "execution_count": 57,
   "metadata": {},
   "outputs": [],
   "source": [
    "df.PinCode = df.PinCode.astype(int)"
   ]
  },
  {
   "cell_type": "code",
   "execution_count": 67,
   "metadata": {},
   "outputs": [],
   "source": [
    "near = []  # Initialize an empty list to store rows\n",
    "target_pincode = 46202  # The target pincode you want to match\n",
    "\n",
    "for index, row in df.iterrows():\n",
    "    if row['PinCode'] == target_pincode:\n",
    "        name = row['name']\n",
    "        location = row['Location']\n",
    "        price = row['HIGH']\n",
    "        near.append([name, location, price])"
   ]
  },
  {
   "cell_type": "code",
   "execution_count": 68,
   "metadata": {},
   "outputs": [
    {
     "data": {
      "text/plain": [
       "[['The Vue', '718 E Georgia St, Indianapolis, IN 46202', 1399],\n",
       " ['Gathyr Apartments', '1117 E Market St, Indianapolis, IN 46202', 2130],\n",
       " ['Stadium Lofts & Flats', '1501 W 16th St, Indianapolis, IN 46202', 1586],\n",
       " ['Van Rooy Downtown Leasing',\n",
       "  '1030 N College Ave, Indianapolis, IN 46202',\n",
       "  1755],\n",
       " ['Ralston Apartments', '1201 Indiana Ave, Indianapolis, IN 46202', 2400],\n",
       " ['Wesmont', '1515 Lewis St, Indianapolis, IN 46202', 2125],\n",
       " ['9 on Canal', '335 W 9th St, Indianapolis, IN 46202', 3275],\n",
       " ['Canal Square', '359 N West St, Indianapolis, IN 46202', 2249],\n",
       " ['Wesley Place', '75 W 18th St, Indianapolis, IN 46202', 2121],\n",
       " ['The Assembly', '1301 E Washington St, Indianapolis, IN 46202', 1950],\n",
       " ['Lockerbie Lofts', '640 E Michigan St, Indianapolis, IN 46202', 2581],\n",
       " ['Cosmopolitan on the Canal',\n",
       "  '310 W Michigan St, Indianapolis, IN 46202',\n",
       "  2710],\n",
       " ['632 MLK Apartments',\n",
       "  '632 Dr Martin Luther King Jr St, Indianapolis, IN 46202',\n",
       "  3060],\n",
       " ['Nine+Eighteen', '918 Fort Wayne Ave, Indianapolis, IN 46202', 2711],\n",
       " ['Delaware Court Apartments',\n",
       "  '1001 N Delaware St, Indianapolis, IN 46202',\n",
       "  1150],\n",
       " ['747 Apartments', '747 N College Ave, Indianapolis, IN 46202', 4715],\n",
       " ['Wyndham on Delaware', '1040 N Delaware St, Indianapolis, IN 46202', 1350],\n",
       " ['Maryden on Central', '1308 Central Ave, Indianapolis, IN 46202', 1200],\n",
       " ['Canal Overlook Apartments',\n",
       "  '430 N Indiana Ave, Indianapolis, IN 46202',\n",
       "  2554],\n",
       " ['The Waverley', '140 Pope St, Indianapolis, IN 46202', 6506],\n",
       " ['Gardens of Canal Court',\n",
       "  '434 Canal Court South Dr, Indianapolis, IN 46202',\n",
       "  1633],\n",
       " ['Lockefield Gardens', '737 Lockefield Ln, Indianapolis, IN 46202', 1329],\n",
       " ['2131 North', '2131 N Meridian St, Indianapolis, IN 46202', 1550],\n",
       " ['Priscilla on Pennsylvania',\n",
       "  '1309 N Pennsylvania St, Indianapolis, IN 46202',\n",
       "  875],\n",
       " ['Circle City Apartments',\n",
       "  '1321 N Meridian St, Indianapolis, IN 46202',\n",
       "  2185],\n",
       " ['The Avenue', '930 W 10th St, Indianapolis, IN 46202', 3000],\n",
       " ['155 - ST AGNES ACADEMY APARTMENTS',\n",
       "  '1350 N Meridian St, Indianapolis, IN 46202',\n",
       "  795],\n",
       " ['950 N California St', 'Indianapolis, IN 46202', 3500],\n",
       " ['434 Canal Ct S Dr Unit 323.5977', 'Indianapolis, IN 46202', 1837],\n",
       " ['434 Canal Ct S Dr Unit 372.743330', 'Indianapolis, IN 46202', 1817],\n",
       " ['335 W 9th St Unit 906.10432', 'Indianapolis, IN 46202', 1895],\n",
       " ['335 W 9th St Unit 0903.863135', 'Indianapolis, IN 46202', 1825],\n",
       " ['7650 Scatter Woods Ln', 'Indianapolis, IN 46202', 1435],\n",
       " ['3306 Capsella Ln', 'Indianapolis, IN 46202', 1895],\n",
       " ['10776 Albertson Dr', 'Indianapolis, IN 46202', 1735],\n",
       " ['640 Ashford Dr', 'Indianapolis, IN 46202', 3780],\n",
       " ['1536 Pleasant St', 'Indianapolis, IN 46202', 2730],\n",
       " ['4249 Village Bend Dr', '718 E Georgia St, Indianapolis, IN 46202', 1395],\n",
       " ['4130 N Riley Ave', '1117 E Market St, Indianapolis, IN 46202', 1785],\n",
       " ['5859 Annapolis Dr', '718 E Georgia St, Indianapolis, IN 46202', 1700],\n",
       " ['5237 Manning Rd', '1117 E Market St, Indianapolis, IN 46202', 1475],\n",
       " ['8908 Mallard Green Dr', '718 E Georgia St, Indianapolis, IN 46202', 1399],\n",
       " ['5346 W Red River Ct', '1117 E Market St, Indianapolis, IN 46202', 2130]]"
      ]
     },
     "execution_count": 68,
     "metadata": {},
     "output_type": "execute_result"
    }
   ],
   "source": [
    "near"
   ]
  },
  {
   "cell_type": "code",
   "execution_count": 69,
   "metadata": {},
   "outputs": [
    {
     "data": {
      "text/plain": [
       "43"
      ]
     },
     "execution_count": 69,
     "metadata": {},
     "output_type": "execute_result"
    }
   ],
   "source": [
    "len(near)"
   ]
  },
  {
   "cell_type": "code",
   "execution_count": 70,
   "metadata": {},
   "outputs": [],
   "source": [
    "final_near_cheapest = sorted(near, key=lambda x:x[2])"
   ]
  },
  {
   "cell_type": "code",
   "execution_count": 71,
   "metadata": {},
   "outputs": [
    {
     "data": {
      "text/plain": [
       "[['155 - ST AGNES ACADEMY APARTMENTS',\n",
       "  '1350 N Meridian St, Indianapolis, IN 46202',\n",
       "  795],\n",
       " ['Priscilla on Pennsylvania',\n",
       "  '1309 N Pennsylvania St, Indianapolis, IN 46202',\n",
       "  875],\n",
       " ['Delaware Court Apartments',\n",
       "  '1001 N Delaware St, Indianapolis, IN 46202',\n",
       "  1150],\n",
       " ['Maryden on Central', '1308 Central Ave, Indianapolis, IN 46202', 1200],\n",
       " ['Lockefield Gardens', '737 Lockefield Ln, Indianapolis, IN 46202', 1329],\n",
       " ['Wyndham on Delaware', '1040 N Delaware St, Indianapolis, IN 46202', 1350],\n",
       " ['4249 Village Bend Dr', '718 E Georgia St, Indianapolis, IN 46202', 1395],\n",
       " ['The Vue', '718 E Georgia St, Indianapolis, IN 46202', 1399],\n",
       " ['8908 Mallard Green Dr', '718 E Georgia St, Indianapolis, IN 46202', 1399],\n",
       " ['7650 Scatter Woods Ln', 'Indianapolis, IN 46202', 1435],\n",
       " ['5237 Manning Rd', '1117 E Market St, Indianapolis, IN 46202', 1475],\n",
       " ['2131 North', '2131 N Meridian St, Indianapolis, IN 46202', 1550],\n",
       " ['Stadium Lofts & Flats', '1501 W 16th St, Indianapolis, IN 46202', 1586],\n",
       " ['Gardens of Canal Court',\n",
       "  '434 Canal Court South Dr, Indianapolis, IN 46202',\n",
       "  1633],\n",
       " ['5859 Annapolis Dr', '718 E Georgia St, Indianapolis, IN 46202', 1700],\n",
       " ['10776 Albertson Dr', 'Indianapolis, IN 46202', 1735],\n",
       " ['Van Rooy Downtown Leasing',\n",
       "  '1030 N College Ave, Indianapolis, IN 46202',\n",
       "  1755],\n",
       " ['4130 N Riley Ave', '1117 E Market St, Indianapolis, IN 46202', 1785],\n",
       " ['434 Canal Ct S Dr Unit 372.743330', 'Indianapolis, IN 46202', 1817],\n",
       " ['335 W 9th St Unit 0903.863135', 'Indianapolis, IN 46202', 1825],\n",
       " ['434 Canal Ct S Dr Unit 323.5977', 'Indianapolis, IN 46202', 1837],\n",
       " ['335 W 9th St Unit 906.10432', 'Indianapolis, IN 46202', 1895],\n",
       " ['3306 Capsella Ln', 'Indianapolis, IN 46202', 1895],\n",
       " ['The Assembly', '1301 E Washington St, Indianapolis, IN 46202', 1950],\n",
       " ['Wesley Place', '75 W 18th St, Indianapolis, IN 46202', 2121],\n",
       " ['Wesmont', '1515 Lewis St, Indianapolis, IN 46202', 2125],\n",
       " ['Gathyr Apartments', '1117 E Market St, Indianapolis, IN 46202', 2130],\n",
       " ['5346 W Red River Ct', '1117 E Market St, Indianapolis, IN 46202', 2130],\n",
       " ['Circle City Apartments',\n",
       "  '1321 N Meridian St, Indianapolis, IN 46202',\n",
       "  2185],\n",
       " ['Canal Square', '359 N West St, Indianapolis, IN 46202', 2249],\n",
       " ['Ralston Apartments', '1201 Indiana Ave, Indianapolis, IN 46202', 2400],\n",
       " ['Canal Overlook Apartments',\n",
       "  '430 N Indiana Ave, Indianapolis, IN 46202',\n",
       "  2554],\n",
       " ['Lockerbie Lofts', '640 E Michigan St, Indianapolis, IN 46202', 2581],\n",
       " ['Cosmopolitan on the Canal',\n",
       "  '310 W Michigan St, Indianapolis, IN 46202',\n",
       "  2710],\n",
       " ['Nine+Eighteen', '918 Fort Wayne Ave, Indianapolis, IN 46202', 2711],\n",
       " ['1536 Pleasant St', 'Indianapolis, IN 46202', 2730],\n",
       " ['The Avenue', '930 W 10th St, Indianapolis, IN 46202', 3000],\n",
       " ['632 MLK Apartments',\n",
       "  '632 Dr Martin Luther King Jr St, Indianapolis, IN 46202',\n",
       "  3060],\n",
       " ['9 on Canal', '335 W 9th St, Indianapolis, IN 46202', 3275],\n",
       " ['950 N California St', 'Indianapolis, IN 46202', 3500],\n",
       " ['640 Ashford Dr', 'Indianapolis, IN 46202', 3780],\n",
       " ['747 Apartments', '747 N College Ave, Indianapolis, IN 46202', 4715],\n",
       " ['The Waverley', '140 Pope St, Indianapolis, IN 46202', 6506]]"
      ]
     },
     "execution_count": 71,
     "metadata": {},
     "output_type": "execute_result"
    }
   ],
   "source": [
    "final_near_cheapest"
   ]
  },
  {
   "cell_type": "code",
   "execution_count": 72,
   "metadata": {},
   "outputs": [],
   "source": [
    "col_names = ['Name','Location', 'Price']\n",
    "df=pd.DataFrame(final_near_cheapest, columns = col_names)"
   ]
  },
  {
   "cell_type": "code",
   "execution_count": 73,
   "metadata": {},
   "outputs": [
    {
     "data": {
      "text/html": [
       "<div>\n",
       "<style scoped>\n",
       "    .dataframe tbody tr th:only-of-type {\n",
       "        vertical-align: middle;\n",
       "    }\n",
       "\n",
       "    .dataframe tbody tr th {\n",
       "        vertical-align: top;\n",
       "    }\n",
       "\n",
       "    .dataframe thead th {\n",
       "        text-align: right;\n",
       "    }\n",
       "</style>\n",
       "<table border=\"1\" class=\"dataframe\">\n",
       "  <thead>\n",
       "    <tr style=\"text-align: right;\">\n",
       "      <th></th>\n",
       "      <th>Name</th>\n",
       "      <th>Location</th>\n",
       "      <th>Price</th>\n",
       "    </tr>\n",
       "  </thead>\n",
       "  <tbody>\n",
       "    <tr>\n",
       "      <th>0</th>\n",
       "      <td>155 - ST AGNES ACADEMY APARTMENTS</td>\n",
       "      <td>1350 N Meridian St, Indianapolis, IN 46202</td>\n",
       "      <td>795</td>\n",
       "    </tr>\n",
       "    <tr>\n",
       "      <th>1</th>\n",
       "      <td>Priscilla on Pennsylvania</td>\n",
       "      <td>1309 N Pennsylvania St, Indianapolis, IN 46202</td>\n",
       "      <td>875</td>\n",
       "    </tr>\n",
       "    <tr>\n",
       "      <th>2</th>\n",
       "      <td>Delaware Court Apartments</td>\n",
       "      <td>1001 N Delaware St, Indianapolis, IN 46202</td>\n",
       "      <td>1150</td>\n",
       "    </tr>\n",
       "    <tr>\n",
       "      <th>3</th>\n",
       "      <td>Maryden on Central</td>\n",
       "      <td>1308 Central Ave, Indianapolis, IN 46202</td>\n",
       "      <td>1200</td>\n",
       "    </tr>\n",
       "    <tr>\n",
       "      <th>4</th>\n",
       "      <td>Lockefield Gardens</td>\n",
       "      <td>737 Lockefield Ln, Indianapolis, IN 46202</td>\n",
       "      <td>1329</td>\n",
       "    </tr>\n",
       "  </tbody>\n",
       "</table>\n",
       "</div>"
      ],
      "text/plain": [
       "                                Name  \\\n",
       "0  155 - ST AGNES ACADEMY APARTMENTS   \n",
       "1          Priscilla on Pennsylvania   \n",
       "2          Delaware Court Apartments   \n",
       "3                 Maryden on Central   \n",
       "4                 Lockefield Gardens   \n",
       "\n",
       "                                         Location  Price  \n",
       "0      1350 N Meridian St, Indianapolis, IN 46202    795  \n",
       "1  1309 N Pennsylvania St, Indianapolis, IN 46202    875  \n",
       "2      1001 N Delaware St, Indianapolis, IN 46202   1150  \n",
       "3        1308 Central Ave, Indianapolis, IN 46202   1200  \n",
       "4       737 Lockefield Ln, Indianapolis, IN 46202   1329  "
      ]
     },
     "execution_count": 73,
     "metadata": {},
     "output_type": "execute_result"
    }
   ],
   "source": [
    "df.head()"
   ]
  },
  {
   "cell_type": "code",
   "execution_count": 74,
   "metadata": {},
   "outputs": [],
   "source": [
    "df.to_excel(r'Indy_fin.xlsx', index=False)"
   ]
  },
  {
   "cell_type": "code",
   "execution_count": null,
   "metadata": {},
   "outputs": [],
   "source": []
  }
 ],
 "metadata": {
  "kernelspec": {
   "display_name": "Python 3",
   "language": "python",
   "name": "python3"
  },
  "language_info": {
   "codemirror_mode": {
    "name": "ipython",
    "version": 3
   },
   "file_extension": ".py",
   "mimetype": "text/x-python",
   "name": "python",
   "nbconvert_exporter": "python",
   "pygments_lexer": "ipython3",
   "version": "3.9.2"
  },
  "orig_nbformat": 4
 },
 "nbformat": 4,
 "nbformat_minor": 2
}
